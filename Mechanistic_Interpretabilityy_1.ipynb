{
  "nbformat": 4,
  "nbformat_minor": 0,
  "metadata": {
    "colab": {
      "provenance": [],
      "authorship_tag": "ABX9TyOQnH3X5GM8Y3kq5sfF5zta",
      "include_colab_link": true
    },
    "kernelspec": {
      "name": "python3",
      "display_name": "Python 3"
    },
    "language_info": {
      "name": "python"
    }
  },
  "cells": [
    {
      "cell_type": "markdown",
      "metadata": {
        "id": "view-in-github",
        "colab_type": "text"
      },
      "source": [
        "<a href=\"https://colab.research.google.com/github/DivyaSharma0795/Mechanistic_Interpretability/blob/main/Mechanistic_Interpretabilityy_1.ipynb\" target=\"_parent\"><img src=\"https://colab.research.google.com/assets/colab-badge.svg\" alt=\"Open In Colab\"/></a>"
      ]
    },
    {
      "cell_type": "markdown",
      "source": [
        "### Introduction\n",
        "This project implements the concept of **superposition in neural networks**, as described in the \"Toy Models of Superposition\" paper. The idea is that neural networks can store more features than they have dimensions by overlapping multiple features in a way that isn't easily separable. This project explores how this superposition occurs and how features can be recovered using sparse coding.\n",
        "\n",
        "\n",
        "This technique is foundational to understanding how deep networks efficiently store and retrieve information. It can help in explaining why models generalize despite apparent capacity limits.\n",
        "\n",
        "\n",
        "### Procedure\n",
        "1. Recreate a Toy Model of Superposition\n",
        "   - Generate a synthetic dataset where multiple sparse features are compressed into fewer dimensions\n",
        "   - Use a random linear transformation to encode these features into a lower-dimensional space\n",
        "\n",
        "2. Apply Sparse Coding for Recovery\n",
        "   - Use sparse dictionary learning to decode the compressed representation back into interpretable features\n",
        "   - Experiment with different sparsity levels and compare reconstruction accuracy\n",
        "\n",
        "3. Visualize Results\n",
        "   - Create heatmaps of true vs. reconstructed features\n",
        "   - Plot how changing the number of neurons affects feature recovery\n"
      ],
      "metadata": {
        "id": "JJAnkHLl2URG"
      }
    },
    {
      "cell_type": "code",
      "execution_count": 2,
      "metadata": {
        "id": "SH15ej_da3rJ"
      },
      "outputs": [],
      "source": [
        "import numpy as np\n",
        "import matplotlib.pyplot as plt\n",
        "from sklearn.decomposition import SparseCoder"
      ]
    },
    {
      "cell_type": "code",
      "source": [
        "# Step 1: Generate Synthetic Data\n",
        "np.random.seed(42)\n",
        "n_features = 10  # Number of underlying features\n",
        "n_neurons = 5    # Fewer neurons than features\n",
        "n_samples = 500  # Number of data points"
      ],
      "metadata": {
        "id": "sqiq6xrra9il"
      },
      "execution_count": 3,
      "outputs": []
    },
    {
      "cell_type": "code",
      "source": [
        "# Create random sparse feature matrix\n",
        "true_features = np.random.randn(n_samples, n_features)\n",
        "true_features[np.random.rand(*true_features.shape) < 0.7] = 0  # Inducing sparsity"
      ],
      "metadata": {
        "id": "tVdu8lFsbBrU"
      },
      "execution_count": 4,
      "outputs": []
    },
    {
      "cell_type": "code",
      "source": [
        "# Step 2: Define a Random Compression Matrix\n",
        "compression_matrix = np.random.randn(n_features, n_neurons)  # Overcomplete basis\n",
        "compressed_data = true_features @ compression_matrix  # Encode into lower dimensions"
      ],
      "metadata": {
        "id": "DlFGivGMbDy2"
      },
      "execution_count": 5,
      "outputs": []
    },
    {
      "cell_type": "code",
      "source": [
        "# Step 3: Decode using Sparse Coding\n",
        "coder = SparseCoder(dictionary=compression_matrix, transform_algorithm='lasso_lars', positive_code=True)\n",
        "reconstructed_features = coder.transform(compressed_data)"
      ],
      "metadata": {
        "id": "9YGuSBTibFzI"
      },
      "execution_count": 6,
      "outputs": []
    },
    {
      "cell_type": "markdown",
      "source": [
        "> The above code snippet was generated using Chatgpt on 2/19/25 at 10:30p and then debugged due to a mismatch in input dimensions for SparseCoder"
      ],
      "metadata": {
        "id": "fWFvvsn8nZeN"
      }
    },
    {
      "cell_type": "code",
      "source": [
        "# Step 4: Visualization\n",
        "plt.figure(figsize=(10, 5))\n",
        "plt.subplot(1, 2, 1)\n",
        "plt.imshow(true_features[:20], aspect='auto', cmap='coolwarm')\n",
        "plt.title(\"True Features\")\n",
        "plt.colorbar()\n",
        "\n",
        "plt.subplot(1, 2, 2)\n",
        "plt.imshow(reconstructed_features[:20], aspect='auto', cmap='coolwarm')\n",
        "plt.title(\"Reconstructed Features\")\n",
        "plt.colorbar()\n",
        "\n",
        "plt.show()\n"
      ],
      "metadata": {
        "colab": {
          "base_uri": "https://localhost:8080/",
          "height": 468
        },
        "id": "M1dB0CwEbIdg",
        "outputId": "219e94de-3e45-423b-d3e3-af675f644a8b"
      },
      "execution_count": 7,
      "outputs": [
        {
          "output_type": "display_data",
          "data": {
            "text/plain": [
              "<Figure size 1000x500 with 4 Axes>"
            ],
            "image/png": "[encoded data removed]"
          },
          "metadata": {}
        }
      ]
    },
    {
      "cell_type": "markdown",
      "source": [
        "> The above code snippet was generated using Chatgpt on 2/19/25 at 10:45p"
      ],
      "metadata": {
        "id": "ZZq0BsnYnumP"
      }
    },
    {
      "cell_type": "markdown",
      "source": [
        "### Interpretation\n",
        "\n",
        "The reconstructed features are much sparser than the true features, as expected since I used a SparseCoder. The scales of the true features vs the reconstructed features are different on the legend, and many more features are shrunk to 0 due to the lasso transformation.\n",
        "\n",
        "To check if the implementation is correct, I can look at the MSE between the reconstructed features and the true features"
      ],
      "metadata": {
        "id": "T0vKnqDJlbH8"
      }
    },
    {
      "cell_type": "code",
      "source": [
        "mse = np.mean((true_features - reconstructed_features) ** 2)\n",
        "print(f\"Reconstruction MSE: {mse:.4f}\")"
      ],
      "metadata": {
        "colab": {
          "base_uri": "https://localhost:8080/"
        },
        "id": "MWT3k3qmmO3I",
        "outputId": "1c33a320-59c9-4e14-bc8a-229e0346c982"
      },
      "execution_count": 8,
      "outputs": [
        {
          "output_type": "stream",
          "name": "stdout",
          "text": [
            "Reconstruction MSE: 0.2892\n"
          ]
        }
      ]
    },
    {
      "cell_type": "markdown",
      "source": [
        "The MSE is relatively low, however there is still some loss in features due to the sparsity"
      ],
      "metadata": {
        "id": "06FRh1Efm2Yv"
      }
    },
    {
      "cell_type": "markdown",
      "source": [
        "### Findings\n",
        "\n",
        "What I Learned About the Mechanism:\n",
        "Superposition allows neural networks to store more features than the available neurons by overlapping representations. Sparse coding can help recover individual features from these compressed representations, but reconstruction is imperfect and there will be loss.\n",
        "\n",
        "### Challenges\n",
        "- Dimensionality Mismatch: Initially, SparseCoder required proper alignment between the dictionary and input data\n",
        "- Reconstruction Quality: The MSE of 0.2892 suggests some loss of fidelity, indicating information loss during compression\n",
        "\n",
        "### Potential Improvements\n",
        "- Varying the Number of Neurons: Increase `n_neurons` to study how reconstruction improves with more capacity\n",
        "- Different Sparse Coding Methods: Experiment with other methods of feature separation to check loss of information\n"
      ],
      "metadata": {
        "id": "OWRQXH5Pobng"
      }
    }
  ]
}